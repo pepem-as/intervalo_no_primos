{
  "nbformat": 4,
  "nbformat_minor": 0,
  "metadata": {
    "colab": {
      "provenance": [],
      "authorship_tag": "ABX9TyO99rB8eqEYSSz4z8b9xvCb",
      "include_colab_link": true
    },
    "kernelspec": {
      "name": "python3",
      "display_name": "Python 3"
    },
    "language_info": {
      "name": "python"
    }
  },
  "cells": [
    {
      "cell_type": "markdown",
      "metadata": {
        "id": "view-in-github",
        "colab_type": "text"
      },
      "source": [
        "<a href=\"https://colab.research.google.com/github/pepem-as/intervalo_no_primos/blob/main/Untitled1.ipynb\" target=\"_parent\"><img src=\"https://colab.research.google.com/assets/colab-badge.svg\" alt=\"Open In Colab\"/></a>"
      ]
    },
    {
      "cell_type": "code",
      "execution_count": null,
      "metadata": {
        "id": "JjhWmgV9sUVI"
      },
      "outputs": [],
      "source": [
        "# Función para verificar si un número es primo\n",
        "def es_num_primo(n):\n",
        "    if n <= 1:\n",
        "        return False\n",
        "    for i in range(2, int(n**0.5) + 1):\n",
        "        if n % i == 0:\n",
        "            return False\n",
        "    return True\n",
        "\n",
        "# Intervalo con 73 números no primos consecutivos\n",
        "def primer_intervalo_no_primos(longitud):\n",
        "    contador_no_primos = 0  # Contador de números no primos consecutivos\n",
        "    inicio_intervalo = None  # Inicio del intervalo\n",
        "    numero = 2  # Empezamos desde el primer número primo (2)\n",
        "\n",
        "    while True:\n",
        "        if not es_num_primo(numero):  # Si el número no es primo\n",
        "            contador_no_primos += 1\n",
        "            if contador_no_primos == 1:  # Si es el primer número no primo del intervalo\n",
        "                inicio_intervalo = numero\n",
        "            if contador_no_primos == longitud:  # Si el intervalo que indicamos\n",
        "                fin_intervalo = numero\n",
        "                return inicio_intervalo, fin_intervalo\n",
        "        else:  # Si el número es primo, reiniciamos el contador\n",
        "            contador_no_primos = 0\n",
        "            inicio_intervalo = None\n",
        "        numero += 1  # Siguiente número\n",
        "\n",
        "# Ejecutar la función y mostrar el resultado\n",
        "inicio, fin = encontrar_intervalo_no_primos(73)\n",
        "print(f\"Primer intervalo con 73 números no primos consecutivos: [{inicio}, {fin}]\")"
      ]
    }
  ]
}